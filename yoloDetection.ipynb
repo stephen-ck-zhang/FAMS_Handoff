{
 "cells": [
  {
   "attachments": {},
   "cell_type": "markdown",
   "metadata": {},
   "source": [
    "## YOLOv5 Set Up and Sample Referencing"
   ]
  },
  {
   "cell_type": "code",
   "execution_count": null,
   "metadata": {},
   "outputs": [],
   "source": [
    "# Install dependencies\n",
    "%cd yolov5\n",
    "%pip install -qr requirements.txt \n",
    "%pip install -q roboflow"
   ]
  },
  {
   "cell_type": "code",
   "execution_count": null,
   "metadata": {},
   "outputs": [],
   "source": [
    "# Import dependencies\n",
    "import torch\n",
    "import utils\n",
    "display = utils.notebook_init() "
   ]
  },
  {
   "cell_type": "code",
   "execution_count": null,
   "metadata": {},
   "outputs": [],
   "source": [
    "# Inferencing\n",
    "!python detect.py --weights yolov5s.pt --img 640 --conf 0.30 --source example.jpeg"
   ]
  },
  {
   "cell_type": "code",
   "execution_count": null,
   "metadata": {},
   "outputs": [],
   "source": [
    "# Visualize\n",
    "display.Image(filename='/yolov5/runs/detect/exp/example.jpeg', width=500)"
   ]
  },
  {
   "attachments": {},
   "cell_type": "markdown",
   "metadata": {},
   "source": [
    "We observe the existing checkpoint cannot (hard to) detect scalpels. Let's find some fine-tuned models that can detect scalpels from roboflow."
   ]
  },
  {
   "cell_type": "code",
   "execution_count": null,
   "metadata": {},
   "outputs": [],
   "source": [
    "# Download model from Roboflow\n",
    "!pip install roboflow\n",
    "\n",
    "from roboflow import Roboflow\n",
    "rf = Roboflow(api_key=\"btax39hMf4xR6kY6A1Nf\")\n",
    "project = rf.workspace().project(\"scalpels\")\n",
    "model = project.version(3).model"
   ]
  },
  {
   "cell_type": "code",
   "execution_count": null,
   "metadata": {},
   "outputs": [],
   "source": [
    "# infer on the same image\n",
    "print(model.predict(\"example.jpeg\", confidence=40, overlap=0).json())"
   ]
  },
  {
   "cell_type": "code",
   "execution_count": null,
   "metadata": {},
   "outputs": [],
   "source": [
    "# Save and visualize the prediction\n",
    "model.predict(\"example.jpeg\", confidence=40, overlap=0).save(\"example_result.jpg\")\n",
    "display.Image(filename='/yolov5/example_result.jpg', width=500)"
   ]
  },
  {
   "attachments": {},
   "cell_type": "markdown",
   "metadata": {},
   "source": [
    "The result is much better now! Let's try to detect the scalpels in real time.\n",
    "\n",
    "NOTE: We also need to find some fine-tuned models that can detect palms from roboflow.\n",
    "\n",
    "```\n",
    "from roboflow import Roboflow\n",
    "rf = Roboflow(api_key=\"btax39hMf4xR6kY6A1Nf\")\n",
    "project = rf.workspace().project(\"handd-ua3mt\")\n",
    "model = project.version(1).model\n",
    "```"
   ]
  }
 ],
 "metadata": {
  "kernelspec": {
   "display_name": "base",
   "language": "python",
   "name": "python3"
  },
  "language_info": {
   "name": "python",
   "version": "3.9.10 | packaged by conda-forge | (main, Feb  1 2022, 21:28:27) \n[Clang 11.1.0 ]"
  },
  "orig_nbformat": 4,
  "vscode": {
   "interpreter": {
    "hash": "40d3a090f54c6569ab1632332b64b2c03c39dcf918b08424e98f38b5ae0af88f"
   }
  }
 },
 "nbformat": 4,
 "nbformat_minor": 2
}
